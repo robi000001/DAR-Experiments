{
 "cells": [
  {
   "cell_type": "markdown",
   "source": [
    "# Számrendszerek, számrendszerek közötti átváltás, számok ábrázolása"
   ],
   "metadata": {
    "collapsed": false
   },
   "id": "ffbbdeaf4863052c"
  },
  {
   "cell_type": "code",
   "execution_count": null,
   "id": "initial_id",
   "metadata": {
    "collapsed": true
   },
   "outputs": [],
   "source": []
  },
  {
   "cell_type": "code",
   "execution_count": 10,
   "outputs": [
    {
     "name": "stdout",
     "output_type": "stream",
     "text": [
      "0b1010\n",
      "1010\n",
      "00001010\n"
     ]
    }
   ],
   "source": [
    "# Számok átváltása decimálisból binárisba\n",
    "# 1. módszer\n",
    "print(bin(10))\n",
    "# 2. módszer\n",
    "print(format(10, 'b'))\n",
    "# Számok átváltása decimálisból binárisba megadott szélességgel\n",
    "print(format(10, '08b'))"
   ],
   "metadata": {
    "collapsed": false,
    "ExecuteTime": {
     "end_time": "2023-08-10T18:29:02.620923300Z",
     "start_time": "2023-08-10T18:29:02.598981400Z"
    }
   },
   "id": "566a8990651277ad"
  },
  {
   "cell_type": "code",
   "execution_count": 11,
   "outputs": [
    {
     "name": "stdout",
     "output_type": "stream",
     "text": [
      "0xa\n",
      "a\n",
      "0000000a\n"
     ]
    }
   ],
   "source": [
    "# Számok átváltása decimálisból hexadecimálisba\n",
    "# 1. módszer\n",
    "print(hex(10))\n",
    "# 2. módszer\n",
    "print(format(10, 'x'))\n",
    "# Számok átváltása decimálisból hexadecimálisba megadott szélességgel\n",
    "print(format(10, '08x'))"
   ],
   "metadata": {
    "collapsed": false,
    "ExecuteTime": {
     "end_time": "2023-08-10T18:29:21.554578200Z",
     "start_time": "2023-08-10T18:29:21.532636900Z"
    }
   },
   "id": "f945c0d157b9802b"
  },
  {
   "cell_type": "code",
   "execution_count": 3,
   "outputs": [
    {
     "name": "stdout",
     "output_type": "stream",
     "text": [
      "10\n",
      "10\n"
     ]
    }
   ],
   "source": [
    "# Számok átváltása binárisból decimálisba\n",
    "# 1. módszer\n",
    "print(int('1010', 2))\n",
    "# 2. módszer\n",
    "print(int('0b1010', 2))"
   ],
   "metadata": {
    "collapsed": false,
    "ExecuteTime": {
     "end_time": "2023-08-10T18:26:18.457560600Z",
     "start_time": "2023-08-10T18:26:18.439608300Z"
    }
   },
   "id": "df70ca4a39434664"
  },
  {
   "cell_type": "code",
   "execution_count": 4,
   "outputs": [
    {
     "name": "stdout",
     "output_type": "stream",
     "text": [
      "10\n",
      "10\n"
     ]
    }
   ],
   "source": [
    "# Számok átváltása hexadecimálisból decimálisba\n",
    "# 1. módszer\n",
    "print(int('a', 16))\n",
    "# 2. módszer\n",
    "print(int('0xa', 16))"
   ],
   "metadata": {
    "collapsed": false,
    "ExecuteTime": {
     "end_time": "2023-08-10T18:26:38.511358400Z",
     "start_time": "2023-08-10T18:26:38.499389300Z"
    }
   },
   "id": "aa4a31c7c15d36b1"
  },
  {
   "cell_type": "code",
   "execution_count": 12,
   "outputs": [
    {
     "name": "stdout",
     "output_type": "stream",
     "text": [
      "0xa\n",
      "a\n"
     ]
    }
   ],
   "source": [
    "# Számok átváltása binárisból hexadecimálisba\n",
    "# 1. módszer\n",
    "print(hex(int('1010', 2)))\n",
    "# 2. módszer\n",
    "print(format(int('1010', 2), 'x'))"
   ],
   "metadata": {
    "collapsed": false,
    "ExecuteTime": {
     "end_time": "2023-08-10T18:30:02.361036500Z",
     "start_time": "2023-08-10T18:30:02.332114Z"
    }
   },
   "id": "c3c8052ce2ccf3b4"
  },
  {
   "cell_type": "code",
   "execution_count": 26,
   "outputs": [
    {
     "name": "stdout",
     "output_type": "stream",
     "text": [
      "1011\n",
      "1I\n"
     ]
    }
   ],
   "source": [
    "# Szám átváltása tizes számrendszerből tetszőleges számrendszerbe\n",
    "def base_converter(number, base):\n",
    "    digits = '0123456789ABCDEFGHIJKLMNOPQRSTUVWXYZ'\n",
    "    # check if base is valid\n",
    "    if base < 2 or base > 36:\n",
    "        raise ValueError('Invalid base!')\n",
    "    result = ''\n",
    "    while number > 0:\n",
    "        rem = number % base\n",
    "        result = digits[rem] + result\n",
    "        number = number // base\n",
    "    return result\n",
    "\n",
    "print(base_converter(11, 2))\n",
    "print(base_converter(50, 32))"
   ],
   "metadata": {
    "collapsed": false,
    "ExecuteTime": {
     "end_time": "2023-08-10T18:41:35.537620Z",
     "start_time": "2023-08-10T18:41:35.523658Z"
    }
   },
   "id": "396bb39ff677e1cf"
  },
  {
   "cell_type": "code",
   "execution_count": 28,
   "outputs": [
    {
     "name": "stdout",
     "output_type": "stream",
     "text": [
      "11\n",
      "50\n"
     ]
    }
   ],
   "source": [
    "# Szám átváltása tetszőleges számrendszerből tizes számrendszerbe\n",
    "def base_converter(number_as_string, base):\n",
    "    digits = '0123456789ABCDEFGHIJKLMNOPQRSTUVWXYZ'\n",
    "    # check if base is valid\n",
    "    if base < 2 or base > 36:\n",
    "        raise ValueError('Invalid base!')\n",
    "    result = 0\n",
    "    length = len(str(number_as_string))\n",
    "    for i in range(length):\n",
    "        result += digits.index(str(number_as_string)[i]) * base ** (length - i - 1)\n",
    "    return result\n",
    "\n",
    "print(base_converter('1011', 2))\n",
    "print(base_converter('1I', 32))"
   ],
   "metadata": {
    "collapsed": false,
    "ExecuteTime": {
     "end_time": "2023-08-10T18:42:30.630983900Z",
     "start_time": "2023-08-10T18:42:30.569919200Z"
    }
   },
   "id": "81148c63c4116f52"
  },
  {
   "cell_type": "code",
   "execution_count": null,
   "outputs": [],
   "source": [],
   "metadata": {
    "collapsed": false
   },
   "id": "fd305079a0455d10"
  }
 ],
 "metadata": {
  "kernelspec": {
   "display_name": "Python 3",
   "language": "python",
   "name": "python3"
  },
  "language_info": {
   "codemirror_mode": {
    "name": "ipython",
    "version": 2
   },
   "file_extension": ".py",
   "mimetype": "text/x-python",
   "name": "python",
   "nbconvert_exporter": "python",
   "pygments_lexer": "ipython2",
   "version": "2.7.6"
  }
 },
 "nbformat": 4,
 "nbformat_minor": 5
}
